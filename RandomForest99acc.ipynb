{
 "cells": [
  {
   "cell_type": "code",
   "execution_count": 13,
   "id": "2593ef21",
   "metadata": {},
   "outputs": [],
   "source": [
    "import pandas as pd\n",
    "import os\n",
    "import numpy as np\n",
    "import matplotlib.pyplot as plt\n",
    "from scipy.signal import butter, filtfilt\n",
    "from scipy.signal import hilbert\n",
    "from antropy import sample_entropy\n",
    "import seaborn as sns\n",
    "import torch\n",
    "from torch.utils.data import TensorDataset, DataLoader, random_split\n",
    "import torch.nn as nn\n",
    "import torch.nn.functional as F\n",
    "import glob\n",
    "from collections import Counter\n",
    "from sklearn.utils import resample\n",
    "from sklearn.preprocessing import StandardScaler\n",
    "from torch.optim.lr_scheduler import ReduceLROnPlateau\n",
    "from sklearn.utils.class_weight import compute_class_weight\n",
    "from sklearn.ensemble import RandomForestClassifier\n",
    "from sklearn.metrics import classification_report\n",
    "from sklearn.neighbors import KNeighborsClassifier\n",
    "from sklearn.svm import SVC\n",
    "from sklearn.neural_network import MLPClassifier\n",
    "\n"
   ]
  },
  {
   "cell_type": "code",
   "execution_count": 4,
   "id": "0b128a8a",
   "metadata": {},
   "outputs": [],
   "source": [
    "dataf = \"feature_full_fixed.csv\"\n",
    "df = pd.read_csv(dataf)\n",
    "epohe_labels = df[\"Sleep_Stage\"].tolist()\n",
    "\n",
    "list_feature = df.drop(columns=[\"Sleep_Stage\"]).values.tolist()\n",
    "list_feature = [row[1:] for row in list_feature]\n"
   ]
  },
  {
   "cell_type": "code",
   "execution_count": 5,
   "id": "725eceae",
   "metadata": {},
   "outputs": [],
   "source": [
    "arr = np.array(list_feature)\n",
    "arr = np.nan_to_num(arr, nan=0.0, posinf=0.0, neginf=0.0)\n",
    "\n",
    "arr = np.clip(arr, -1e6, 1e6)\n"
   ]
  },
  {
   "cell_type": "code",
   "execution_count": 6,
   "id": "e2592e56",
   "metadata": {},
   "outputs": [],
   "source": [
    "def balance_classes(X, y):\n",
    "    valid_mask = y != 'Missing'\n",
    "    X = X[valid_mask]\n",
    "    y = y[valid_mask]\n",
    "    unique_classes = np.unique(y)\n",
    "    min_class_count = min(Counter(y).values())  # smallest class size\n",
    "    print(min_class_count)\n",
    "    X_balanced = []\n",
    "    y_balanced = []\n",
    "\n",
    "    for cls in unique_classes:\n",
    "\n",
    "        # Get all samples for this class\n",
    "        X_cls = X[y == cls]\n",
    "        y_cls = y[y == cls]\n",
    "\n",
    "        # Downsample to match smallest class\n",
    "        X_down, y_down = resample(X_cls, y_cls, \n",
    "                                  replace=False,\n",
    "                                  n_samples=min_class_count,\n",
    "                                  random_state=42)\n",
    "\n",
    "        X_balanced.append(X_down)\n",
    "        y_balanced.append(y_down)\n",
    "\n",
    "    # Concatenate all balanced classes\n",
    "    X_final = np.vstack(X_balanced)\n",
    "    y_final = np.concatenate(y_balanced)\n",
    "\n",
    "    return X_final, y_final "
   ]
  },
  {
   "cell_type": "code",
   "execution_count": 7,
   "id": "5c18e97f",
   "metadata": {},
   "outputs": [
    {
     "name": "stdout",
     "output_type": "stream",
     "text": [
      "8112\n"
     ]
    }
   ],
   "source": [
    "scaler = StandardScaler()\n",
    "scaled_features = scaler.fit_transform(arr)\n",
    "\n",
    "X = torch.tensor(scaled_features, dtype=torch.float32)\n",
    "input_size = X.shape[1]\n",
    "\n",
    "labels_raw = df[\"Sleep_Stage\"]\n",
    "\n",
    "labels_cat = pd.Categorical(labels_raw)\n",
    "\n",
    "y = torch.tensor(labels_cat.codes, dtype=torch.long)\n",
    "\n",
    "X_bal, y_bal = balance_classes(X.numpy(), y.numpy()) #BALANSIRANE - manje izvrsenje rada\n",
    "#X_bal, y_bal = X, y #NEIZBALANSIRANE - testiraj da ne dodje do problema\n",
    "X_bal = torch.tensor(X_bal, dtype=torch.float32)\n",
    "y_bal = torch.tensor(y_bal, dtype=torch.long)"
   ]
  },
  {
   "cell_type": "markdown",
   "id": "b2f1fcb3",
   "metadata": {},
   "source": [
    "KNN ALGORITAM"
   ]
  },
  {
   "cell_type": "code",
   "execution_count": 18,
   "id": "950d3bf0",
   "metadata": {},
   "outputs": [
    {
     "name": "stdout",
     "output_type": "stream",
     "text": [
      "              precision    recall  f1-score   support\n",
      "\n",
      "           0       0.93      1.00      0.96      8112\n",
      "           1       1.00      0.99      0.99      8112\n",
      "           2       1.00      0.97      0.98      8112\n",
      "           3       1.00      0.99      0.99      8112\n",
      "           4       1.00      0.98      0.99      8112\n",
      "\n",
      "    accuracy                           0.99     40560\n",
      "   macro avg       0.99      0.99      0.99     40560\n",
      "weighted avg       0.99      0.99      0.99     40560\n",
      "\n"
     ]
    }
   ],
   "source": [
    "clf = KNeighborsClassifier(n_neighbors=5, weights='distance')\n",
    "clf.fit(X_bal, y_bal) \n",
    "\n",
    "y_pred = clf.predict(X_bal)\n",
    "\n",
    "print(classification_report(y_bal, y_pred))"
   ]
  },
  {
   "cell_type": "markdown",
   "id": "68599f52",
   "metadata": {},
   "source": [
    "RANDOM FOREST ALGORITAM\n"
   ]
  },
  {
   "cell_type": "code",
   "execution_count": 16,
   "id": "0d7e83e2",
   "metadata": {},
   "outputs": [
    {
     "name": "stdout",
     "output_type": "stream",
     "text": [
      "              precision    recall  f1-score   support\n",
      "\n",
      "           0       1.00      0.99      0.99      8112\n",
      "           1       1.00      0.99      0.99      8112\n",
      "           2       0.95      1.00      0.97      8112\n",
      "           3       1.00      0.99      0.99      8112\n",
      "           4       1.00      0.98      0.99      8112\n",
      "\n",
      "    accuracy                           0.99     40560\n",
      "   macro avg       0.99      0.99      0.99     40560\n",
      "weighted avg       0.99      0.99      0.99     40560\n",
      "\n"
     ]
    }
   ],
   "source": [
    "clf = RandomForestClassifier(n_estimators=100, random_state=42)\n",
    "clf.fit(X_bal, y_bal) \n",
    "\n",
    "y_pred = clf.predict(X_bal)\n",
    "\n",
    "print(classification_report(y_bal, y_pred))"
   ]
  },
  {
   "cell_type": "markdown",
   "id": "105c7321",
   "metadata": {},
   "source": [
    "Neural Network - ne radi normalno"
   ]
  },
  {
   "cell_type": "code",
   "execution_count": 17,
   "id": "b86c03e4",
   "metadata": {},
   "outputs": [
    {
     "name": "stdout",
     "output_type": "stream",
     "text": [
      "              precision    recall  f1-score   support\n",
      "\n",
      "           0       0.34      0.11      0.16      8112\n",
      "           1       0.42      0.43      0.43      8112\n",
      "           2       0.76      0.84      0.80      8112\n",
      "           3       0.45      0.61      0.52      8112\n",
      "           4       0.53      0.65      0.59      8112\n",
      "\n",
      "    accuracy                           0.53     40560\n",
      "   macro avg       0.50      0.53      0.50     40560\n",
      "weighted avg       0.50      0.53      0.50     40560\n",
      "\n"
     ]
    },
    {
     "name": "stderr",
     "output_type": "stream",
     "text": [
      "C:\\Users\\lazar\\AppData\\Local\\Packages\\PythonSoftwareFoundation.Python.3.11_qbz5n2kfra8p0\\LocalCache\\local-packages\\Python311\\site-packages\\sklearn\\neural_network\\_multilayer_perceptron.py:780: ConvergenceWarning: Stochastic Optimizer: Maximum iterations (200) reached and the optimization hasn't converged yet.\n",
      "  warnings.warn(\n"
     ]
    }
   ],
   "source": [
    "clf = MLPClassifier(solver='adam', alpha=1e-5,\n",
    "                    hidden_layer_sizes=(5, 2), random_state=1)\n",
    "clf.fit(X_bal, y_bal) \n",
    "\n",
    "y_pred = clf.predict(X_bal)\n",
    "\n",
    "print(classification_report(y_bal, y_pred))"
   ]
  }
 ],
 "metadata": {
  "kernelspec": {
   "display_name": "Python 3",
   "language": "python",
   "name": "python3"
  },
  "language_info": {
   "codemirror_mode": {
    "name": "ipython",
    "version": 3
   },
   "file_extension": ".py",
   "mimetype": "text/x-python",
   "name": "python",
   "nbconvert_exporter": "python",
   "pygments_lexer": "ipython3",
   "version": "3.11.9"
  }
 },
 "nbformat": 4,
 "nbformat_minor": 5
}
